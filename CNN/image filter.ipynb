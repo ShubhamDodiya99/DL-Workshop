{
 "cells": [
  {
   "cell_type": "code",
   "execution_count": 6,
   "id": "8df025bf",
   "metadata": {},
   "outputs": [],
   "source": [
    "import cv2\n",
    "import numpy as np\n",
    "\n",
    "image = cv2.imread(\"D:\\\\17flowers\\\\Train\\\\17flowers\\\\jpg\\\\image_0017.jpg\")\n",
    "\n",
    "# Print error message if image is null\n",
    "if image is None:\n",
    "    print('Could not read image')\n",
    "\n",
    "# Apply identity kernel\n",
    "kernel1 = np.array([[-7, 0, 7],\n",
    "                    [-7, 0, 7],\n",
    "                    [-7, 0, 7]])\n",
    "\n",
    "identity = cv2.filter2D(src=image,  ddepth=-1,kernel=kernel1)\n",
    "\n",
    "\n",
    "cv2.imshow('Original', image)\n",
    "cv2.imshow('Identity', identity)\n",
    "    \n",
    "cv2.waitKey()\n",
    "cv2.imwrite('identity.jpg', identity)\n",
    "cv2.destroyAllWindows()"
   ]
  },
  {
   "cell_type": "code",
   "execution_count": null,
   "id": "e6be824e",
   "metadata": {},
   "outputs": [],
   "source": [
    "cv2.imshow('Original', image)\n",
    "cv2.imshow('Identity', identity)\n",
    "    \n",
    "cv2.waitKey()\n",
    "cv2.imwrite('identity.jpg', identity)\n",
    "cv2.destroyAllWindows()\n"
   ]
  },
  {
   "cell_type": "code",
   "execution_count": 2,
   "id": "bc5ace26",
   "metadata": {},
   "outputs": [],
   "source": [
    "# Apply blurring kernel\n",
    "kernel2 = np.ones((5, 5), np.float32) / 25\n",
    "img = cv2.filter2D(src=image, ddepth=-1, kernel=kernel2)\n",
    "\n",
    "cv2.imshow('Original', image)\n",
    "cv2.imshow('Kernel Blur', img)\n",
    "    \n",
    "cv2.waitKey()\n",
    "cv2.imwrite('blur_kernel.jpg', img)\n",
    "cv2.destroyAllWindows()"
   ]
  },
  {
   "cell_type": "code",
   "execution_count": 14,
   "id": "58491a3d",
   "metadata": {},
   "outputs": [],
   "source": [
    "b,g,r=cv2.split(image)"
   ]
  },
  {
   "cell_type": "code",
   "execution_count": 20,
   "id": "8faf9000",
   "metadata": {},
   "outputs": [],
   "source": [
    "g=b//2"
   ]
  },
  {
   "cell_type": "code",
   "execution_count": 21,
   "id": "ff92316c",
   "metadata": {},
   "outputs": [
    {
     "data": {
      "text/plain": [
       "array([[55, 49, 44, ..., 81, 67, 57],\n",
       "       [46, 40, 36, ..., 73, 60, 51],\n",
       "       [34, 29, 26, ..., 62, 50, 42],\n",
       "       ...,\n",
       "       [ 0,  7, 10, ...,  2,  3,  1],\n",
       "       [ 0,  6, 10, ...,  3,  3,  1],\n",
       "       [ 1,  7, 11, ...,  3,  4,  2]], dtype=uint8)"
      ]
     },
     "execution_count": 21,
     "metadata": {},
     "output_type": "execute_result"
    }
   ],
   "source": [
    "g"
   ]
  },
  {
   "cell_type": "code",
   "execution_count": 22,
   "id": "b47239f9",
   "metadata": {},
   "outputs": [],
   "source": [
    "img=cv2.merge((b,g,r))"
   ]
  },
  {
   "cell_type": "code",
   "execution_count": 23,
   "id": "23016b21",
   "metadata": {},
   "outputs": [],
   "source": [
    "cv2.imshow('Original', img)\n",
    "cv2.waitKey()\n",
    "cv2.destroyAllWindows()\n"
   ]
  }
 ],
 "metadata": {
  "kernelspec": {
   "display_name": "Python 3 (ipykernel)",
   "language": "python",
   "name": "python3"
  },
  "language_info": {
   "codemirror_mode": {
    "name": "ipython",
    "version": 3
   },
   "file_extension": ".py",
   "mimetype": "text/x-python",
   "name": "python",
   "nbconvert_exporter": "python",
   "pygments_lexer": "ipython3",
   "version": "3.7.13"
  }
 },
 "nbformat": 4,
 "nbformat_minor": 5
}
